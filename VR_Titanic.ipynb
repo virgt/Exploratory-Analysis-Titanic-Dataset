{
 "cells": [
  {
   "cell_type": "markdown",
   "id": "0fbafd2c-69cd-478e-b1e3-20798b3f4986",
   "metadata": {
    "slideshow": {
     "slide_type": "slide"
    },
    "tags": []
   },
   "source": [
    "\n",
    "# ML assignment"
   ]
  },
  {
   "cell_type": "code",
   "execution_count": 3,
   "id": "dff589bc-2ce1-4e13-8ef7-12434702fa11",
   "metadata": {
    "slideshow": {
     "slide_type": "skip"
    },
    "tags": []
   },
   "outputs": [],
   "source": [
    "#Import pandas library and load the data \n",
    "import pandas as pd"
   ]
  },
  {
   "cell_type": "code",
   "execution_count": 4,
   "id": "b5431d1d-d8c7-4776-9c38-9586cc723d4e",
   "metadata": {
    "slideshow": {
     "slide_type": "skip"
    },
    "tags": []
   },
   "outputs": [
    {
     "data": {
      "text/html": [
       "<div>\n",
       "<style scoped>\n",
       "    .dataframe tbody tr th:only-of-type {\n",
       "        vertical-align: middle;\n",
       "    }\n",
       "\n",
       "    .dataframe tbody tr th {\n",
       "        vertical-align: top;\n",
       "    }\n",
       "\n",
       "    .dataframe thead th {\n",
       "        text-align: right;\n",
       "    }\n",
       "</style>\n",
       "<table border=\"1\" class=\"dataframe\">\n",
       "  <thead>\n",
       "    <tr style=\"text-align: right;\">\n",
       "      <th></th>\n",
       "      <th>PassengerId</th>\n",
       "      <th>Survived</th>\n",
       "      <th>Pclass</th>\n",
       "      <th>Name</th>\n",
       "      <th>Sex</th>\n",
       "      <th>Age</th>\n",
       "      <th>SibSp</th>\n",
       "      <th>Parch</th>\n",
       "      <th>Ticket</th>\n",
       "      <th>Fare</th>\n",
       "      <th>Cabin</th>\n",
       "      <th>Embarked</th>\n",
       "    </tr>\n",
       "  </thead>\n",
       "  <tbody>\n",
       "    <tr>\n",
       "      <th>0</th>\n",
       "      <td>1</td>\n",
       "      <td>0</td>\n",
       "      <td>3</td>\n",
       "      <td>Mr. Owen Harris</td>\n",
       "      <td>male</td>\n",
       "      <td>22.0</td>\n",
       "      <td>1</td>\n",
       "      <td>0</td>\n",
       "      <td>A/5 21171</td>\n",
       "      <td>7.2500</td>\n",
       "      <td>NaN</td>\n",
       "      <td>S</td>\n",
       "    </tr>\n",
       "    <tr>\n",
       "      <th>1</th>\n",
       "      <td>2</td>\n",
       "      <td>1</td>\n",
       "      <td>1</td>\n",
       "      <td>Mrs. John Bradley (Florence Briggs Thayer)</td>\n",
       "      <td>female</td>\n",
       "      <td>38.0</td>\n",
       "      <td>1</td>\n",
       "      <td>0</td>\n",
       "      <td>PC 17599</td>\n",
       "      <td>71.2833</td>\n",
       "      <td>C85</td>\n",
       "      <td>C</td>\n",
       "    </tr>\n",
       "    <tr>\n",
       "      <th>2</th>\n",
       "      <td>3</td>\n",
       "      <td>1</td>\n",
       "      <td>3</td>\n",
       "      <td>Miss. Laina</td>\n",
       "      <td>female</td>\n",
       "      <td>26.0</td>\n",
       "      <td>0</td>\n",
       "      <td>0</td>\n",
       "      <td>STON/O2. 3101282</td>\n",
       "      <td>7.9250</td>\n",
       "      <td>NaN</td>\n",
       "      <td>S</td>\n",
       "    </tr>\n",
       "    <tr>\n",
       "      <th>3</th>\n",
       "      <td>4</td>\n",
       "      <td>1</td>\n",
       "      <td>1</td>\n",
       "      <td>Mrs. Jacques Heath (Lily May Peel)</td>\n",
       "      <td>female</td>\n",
       "      <td>35.0</td>\n",
       "      <td>1</td>\n",
       "      <td>0</td>\n",
       "      <td>113803</td>\n",
       "      <td>53.1000</td>\n",
       "      <td>C123</td>\n",
       "      <td>S</td>\n",
       "    </tr>\n",
       "    <tr>\n",
       "      <th>4</th>\n",
       "      <td>5</td>\n",
       "      <td>0</td>\n",
       "      <td>3</td>\n",
       "      <td>Mr. William Henry</td>\n",
       "      <td>male</td>\n",
       "      <td>35.0</td>\n",
       "      <td>0</td>\n",
       "      <td>0</td>\n",
       "      <td>373450</td>\n",
       "      <td>8.0500</td>\n",
       "      <td>NaN</td>\n",
       "      <td>S</td>\n",
       "    </tr>\n",
       "  </tbody>\n",
       "</table>\n",
       "</div>"
      ],
      "text/plain": [
       "   PassengerId  Survived  Pclass                                        Name  \\\n",
       "0            1         0       3                             Mr. Owen Harris   \n",
       "1            2         1       1  Mrs. John Bradley (Florence Briggs Thayer)   \n",
       "2            3         1       3                                 Miss. Laina   \n",
       "3            4         1       1          Mrs. Jacques Heath (Lily May Peel)   \n",
       "4            5         0       3                           Mr. William Henry   \n",
       "\n",
       "      Sex   Age  SibSp  Parch            Ticket     Fare Cabin Embarked  \n",
       "0    male  22.0      1      0         A/5 21171   7.2500   NaN        S  \n",
       "1  female  38.0      1      0          PC 17599  71.2833   C85        C  \n",
       "2  female  26.0      0      0  STON/O2. 3101282   7.9250   NaN        S  \n",
       "3  female  35.0      1      0            113803  53.1000  C123        S  \n",
       "4    male  35.0      0      0            373450   8.0500   NaN        S  "
      ]
     },
     "execution_count": 4,
     "metadata": {},
     "output_type": "execute_result"
    }
   ],
   "source": [
    "passengers = pd.read_csv('../data/titanic.csv')\n",
    "passengers.head()"
   ]
  },
  {
   "cell_type": "code",
   "execution_count": 5,
   "id": "d2b2446b-4994-4b63-9dd0-620b29779e99",
   "metadata": {
    "slideshow": {
     "slide_type": "skip"
    },
    "tags": []
   },
   "outputs": [
    {
     "data": {
      "text/plain": [
       "Index(['Survived', 'Pclass', 'Name', 'Sex', 'Age', 'SibSp', 'Parch', 'Ticket',\n",
       "       'Fare', 'Cabin', 'Embarked'],\n",
       "      dtype='object')"
      ]
     },
     "execution_count": 5,
     "metadata": {},
     "output_type": "execute_result"
    }
   ],
   "source": [
    "passengers = passengers.set_index('PassengerId')\n",
    "#Begin with basic data exploration\n",
    "passengers.columns"
   ]
  },
  {
   "cell_type": "markdown",
   "id": "e740806e-8316-4ae2-bb20-588bcc1fea1c",
   "metadata": {
    "slideshow": {
     "slide_type": "skip"
    },
    "tags": []
   },
   "source": [
    "### Question 1\n",
    "\n",
    "Read the dataset correctly using pandas, using an appropriate column as index. What is the PassengerId of \"Mr. Robert William Norman\"?"
   ]
  },
  {
   "cell_type": "code",
   "execution_count": 6,
   "id": "085ac336-c79b-4dad-8af5-1862bf98c8b7",
   "metadata": {
    "slideshow": {
     "slide_type": "skip"
    },
    "tags": []
   },
   "outputs": [
    {
     "name": "stdout",
     "output_type": "stream",
     "text": [
      "The Passenger ID of 'Mr. Robert William Norman' is: 235.\n"
     ]
    }
   ],
   "source": [
    "#locate the index with .index method and access the first value of the tuple\n",
    "\n",
    "print(\"The Passenger ID of 'Mr. Robert William Norman' is: \" +\n",
    "      str(passengers.loc[passengers['Name'] == 'Mr. Robert William Norman'].index.values[0]) + \n",
    "      \".\")"
   ]
  },
  {
   "cell_type": "markdown",
   "id": "02f0c9a3-b4f8-4658-b34f-bb8608ac2384",
   "metadata": {
    "slideshow": {
     "slide_type": "skip"
    },
    "tags": []
   },
   "source": [
    "### Question 2\n",
    "\n",
    "Compute the percentage of survivors out of total number of passengers and the percentage of men and women out of total number of passengers. Paste the answers below."
   ]
  },
  {
   "cell_type": "code",
   "execution_count": 7,
   "id": "53cc1524-9660-4d3b-9542-dfb47a100059",
   "metadata": {
    "slideshow": {
     "slide_type": "skip"
    },
    "tags": []
   },
   "outputs": [
    {
     "name": "stdout",
     "output_type": "stream",
     "text": [
      "38.38% of passengers survived.\n"
     ]
    }
   ],
   "source": [
    "# percentage of survivors out of total number of passengers\n",
    "\n",
    "print(f'{round(len(passengers.loc[passengers[\"Survived\"] == 1])*100/len(passengers),2)}% of passengers survived.')"
   ]
  },
  {
   "cell_type": "code",
   "execution_count": 8,
   "id": "38c685f4-7568-4638-a073-9d33e4fceaa5",
   "metadata": {
    "slideshow": {
     "slide_type": "skip"
    },
    "tags": []
   },
   "outputs": [
    {
     "name": "stdout",
     "output_type": "stream",
     "text": [
      "64.76% of passengers are male.\n",
      "35.24% of passengers are female.\n"
     ]
    }
   ],
   "source": [
    "# percentage of men and women out of total passengers\n",
    "\n",
    "print(f'{round(len(passengers.loc[passengers[\"Sex\"] == \"male\"])*100/len(passengers),2)}% of passengers are male.')\n",
    "print(f'{round(len(passengers.loc[passengers[\"Sex\"] == \"female\"])*100/len(passengers),2)}% of passengers are female.')"
   ]
  },
  {
   "cell_type": "markdown",
   "id": "4c270595-8191-45a2-88fc-c1b6413992c2",
   "metadata": {
    "slideshow": {
     "slide_type": "skip"
    },
    "tags": []
   },
   "source": [
    "### Question 3\n",
    "\n",
    "Compute the percentage of survivors by sex (i.e. the percentage of male passengers that survived and female passengers that survived) and the sex distribution of survivors (i.e. percentage of survivors that were men and percentage of survivors that were women). Paste the answers below."
   ]
  },
  {
   "cell_type": "code",
   "execution_count": 9,
   "id": "b2bc89d1-ce71-4b2b-b452-4ed3bda41a6a",
   "metadata": {
    "slideshow": {
     "slide_type": "skip"
    },
    "tags": []
   },
   "outputs": [
    {
     "name": "stdout",
     "output_type": "stream",
     "text": [
      "18.89% of men survived and 74.2% of women survived.\n"
     ]
    }
   ],
   "source": [
    "#Apply the two filters to find male/female who survived and divide by the total number of the respective sex\n",
    "\n",
    "male_and_survived = len(passengers.loc[\n",
    "    (passengers[\"Sex\"] == \"male\") & (passengers[\"Survived\"] == True)])*100/len(passengers.loc[\n",
    "    (passengers[\"Sex\"]==\"male\")])\n",
    "\n",
    "female_and_survived = len(passengers.loc[\n",
    "    (passengers[\"Sex\"] == \"female\") & (passengers[\"Survived\"] == True)])*100/len(passengers.loc[\n",
    "    (passengers[\"Sex\"]==\"female\")])\n",
    "\n",
    "print(f'{round(male_and_survived, 2)}% of men survived and {round(female_and_survived, 2)}% of women survived.')"
   ]
  },
  {
   "cell_type": "code",
   "execution_count": 10,
   "id": "ffbd92eb-ab67-4195-a85d-68b667b64e84",
   "metadata": {
    "slideshow": {
     "slide_type": "skip"
    },
    "tags": []
   },
   "outputs": [
    {
     "name": "stdout",
     "output_type": "stream",
     "text": [
      "31.87% of the survivors are male.\n",
      "68.13% of the survivors are female.\n"
     ]
    }
   ],
   "source": [
    "#Apply the two filters fto find male/female who survived and devide by the total number of passengers\n",
    "\n",
    "survivors_male=len(passengers.loc[\n",
    "    (passengers[\"Sex\"] == \"male\") & (passengers[\"Survived\"] == True)])*100/len(passengers)\n",
    "survivors_female=len(passengers.loc[\n",
    "    (passengers[\"Sex\"] == \"female\") & (passengers[\"Survived\"] == True)])*100/len(passengers)\n",
    "\n",
    "\n",
    "print(f'{round(survivors_male *100/ (survivors_male + survivors_female),2)}% of the survivors are male.')\n",
    "print(f'{round(survivors_female*100/ (survivors_male + survivors_female),2)}% of the survivors are female.')"
   ]
  },
  {
   "cell_type": "markdown",
   "id": "83dcbf4b-1ab6-4075-8973-ffb641ae8a4c",
   "metadata": {
    "slideshow": {
     "slide_type": "skip"
    },
    "tags": []
   },
   "source": [
    "### Question 4\n",
    "\n",
    "Display in a 2 x 2 DataFrame the probability of being male/female and surviving/not surviving."
   ]
  },
  {
   "cell_type": "code",
   "execution_count": 11,
   "id": "aa9bf204-b0d6-4620-9404-966190823633",
   "metadata": {
    "slideshow": {
     "slide_type": "skip"
    },
    "tags": []
   },
   "outputs": [
    {
     "data": {
      "text/html": [
       "<div>\n",
       "<style scoped>\n",
       "    .dataframe tbody tr th:only-of-type {\n",
       "        vertical-align: middle;\n",
       "    }\n",
       "\n",
       "    .dataframe tbody tr th {\n",
       "        vertical-align: top;\n",
       "    }\n",
       "\n",
       "    .dataframe thead th {\n",
       "        text-align: right;\n",
       "    }\n",
       "</style>\n",
       "<table border=\"1\" class=\"dataframe\">\n",
       "  <thead>\n",
       "    <tr style=\"text-align: right;\">\n",
       "      <th>Survived</th>\n",
       "      <th>p(dying)</th>\n",
       "      <th>p(surviving)</th>\n",
       "    </tr>\n",
       "    <tr>\n",
       "      <th>Sex</th>\n",
       "      <th></th>\n",
       "      <th></th>\n",
       "    </tr>\n",
       "  </thead>\n",
       "  <tbody>\n",
       "    <tr>\n",
       "      <th>female</th>\n",
       "      <td>9.09%</td>\n",
       "      <td>26.15%</td>\n",
       "    </tr>\n",
       "    <tr>\n",
       "      <th>male</th>\n",
       "      <td>52.53%</td>\n",
       "      <td>12.23%</td>\n",
       "    </tr>\n",
       "  </tbody>\n",
       "</table>\n",
       "</div>"
      ],
      "text/plain": [
       "Survived p(dying) p(surviving)\n",
       "Sex                           \n",
       "female      9.09%       26.15%\n",
       "male       52.53%       12.23%"
      ]
     },
     "execution_count": 11,
     "metadata": {},
     "output_type": "execute_result"
    }
   ],
   "source": [
    "#results turned into stings with .astype in order to concatenate the \"%\" character in the result\n",
    "\n",
    "round(passengers.pivot_table(index = 'Sex', columns = 'Survived', aggfunc = 'count', \n",
    "                       values = 'Name').div(len(passengers))*100, 2).rename(\n",
    "    columns={0:'p(dying)',1:'p(surviving)'}).astype(str)+'%'"
   ]
  },
  {
   "cell_type": "markdown",
   "id": "6cab27f5-f1ae-4abd-b81d-645e996c929a",
   "metadata": {
    "slideshow": {
     "slide_type": "skip"
    },
    "tags": []
   },
   "source": [
    "### Question 5\n",
    "\n",
    "Display in a DataFrame the probability of survival/not survival of all combinations of sex and class."
   ]
  },
  {
   "cell_type": "code",
   "execution_count": 12,
   "id": "f82279cc-81de-4e62-beb2-71c9080e25bb",
   "metadata": {
    "slideshow": {
     "slide_type": "skip"
    },
    "tags": []
   },
   "outputs": [
    {
     "data": {
      "text/html": [
       "<div>\n",
       "<style scoped>\n",
       "    .dataframe tbody tr th:only-of-type {\n",
       "        vertical-align: middle;\n",
       "    }\n",
       "\n",
       "    .dataframe tbody tr th {\n",
       "        vertical-align: top;\n",
       "    }\n",
       "\n",
       "    .dataframe thead th {\n",
       "        text-align: right;\n",
       "    }\n",
       "</style>\n",
       "<table border=\"1\" class=\"dataframe\">\n",
       "  <thead>\n",
       "    <tr style=\"text-align: right;\">\n",
       "      <th></th>\n",
       "      <th>Survived</th>\n",
       "      <th>P(dying)</th>\n",
       "      <th>P(surviving)</th>\n",
       "    </tr>\n",
       "    <tr>\n",
       "      <th>Sex</th>\n",
       "      <th>Pclass</th>\n",
       "      <th></th>\n",
       "      <th></th>\n",
       "    </tr>\n",
       "  </thead>\n",
       "  <tbody>\n",
       "    <tr>\n",
       "      <th rowspan=\"3\" valign=\"top\">female</th>\n",
       "      <th>1</th>\n",
       "      <td>0.34%</td>\n",
       "      <td>10.21%</td>\n",
       "    </tr>\n",
       "    <tr>\n",
       "      <th>2</th>\n",
       "      <td>0.67%</td>\n",
       "      <td>7.86%</td>\n",
       "    </tr>\n",
       "    <tr>\n",
       "      <th>3</th>\n",
       "      <td>8.08%</td>\n",
       "      <td>8.08%</td>\n",
       "    </tr>\n",
       "    <tr>\n",
       "      <th rowspan=\"3\" valign=\"top\">male</th>\n",
       "      <th>1</th>\n",
       "      <td>8.64%</td>\n",
       "      <td>5.05%</td>\n",
       "    </tr>\n",
       "    <tr>\n",
       "      <th>2</th>\n",
       "      <td>10.21%</td>\n",
       "      <td>1.91%</td>\n",
       "    </tr>\n",
       "    <tr>\n",
       "      <th>3</th>\n",
       "      <td>33.67%</td>\n",
       "      <td>5.27%</td>\n",
       "    </tr>\n",
       "  </tbody>\n",
       "</table>\n",
       "</div>"
      ],
      "text/plain": [
       "Survived      P(dying) P(surviving)\n",
       "Sex    Pclass                      \n",
       "female 1         0.34%       10.21%\n",
       "       2         0.67%        7.86%\n",
       "       3         8.08%        8.08%\n",
       "male   1         8.64%        5.05%\n",
       "       2        10.21%        1.91%\n",
       "       3        33.67%        5.27%"
      ]
     },
     "execution_count": 12,
     "metadata": {},
     "output_type": "execute_result"
    }
   ],
   "source": [
    "#Using pivot table to create a two level dataframe with all possible combinations required\n",
    "\n",
    "round(passengers.pivot_table(index = ['Sex', 'Pclass'], columns = 'Survived', aggfunc = 'count', \n",
    "                       values = 'Name').div(len(passengers))*100, 2).astype(str).rename(\n",
    "                       columns={0:\"P(dying)\",1:\"P(surviving)\"})+'%'"
   ]
  },
  {
   "cell_type": "markdown",
   "id": "c518eff5-fed1-4abb-aca9-2a2b5bb08238",
   "metadata": {
    "slideshow": {
     "slide_type": "skip"
    },
    "tags": []
   },
   "source": [
    "---"
   ]
  },
  {
   "cell_type": "markdown",
   "id": "83b6235f-1732-4834-873d-1b565e3be1eb",
   "metadata": {
    "slideshow": {
     "slide_type": "slide"
    },
    "tags": []
   },
   "source": [
    "# Question 6 \n",
    "\n",
    "1. Concerning Married vs Unmarried women:\n",
    "\n",
    "    1a. Is there a difference in spending habits for married women Vs unmarried?\n",
    "    \n",
    "    1b. What was the probability for women to survive if they were married (Mrs.) Vs not (Miss)?\n",
    "\n",
    "2. How many passengers from a lower class paid more than the minimum passenger from the next higherclass?\n",
    "      If the event happens multiple times, what the reason?\n",
    "\n",
    "3. Concerning age groups in tens of years:\n",
    "\n",
    "    3a. Which age group had the highest probability of surviving?\n",
    "    \n",
    "    3b. What age group generated the highest revenue?"
   ]
  },
  {
   "cell_type": "markdown",
   "id": "c20c076f-20fe-45d8-8c8a-ad9904f65545",
   "metadata": {
    "slideshow": {
     "slide_type": "skip"
    },
    "tags": []
   },
   "source": [
    "---"
   ]
  },
  {
   "cell_type": "markdown",
   "id": "a36c66bc-1386-4b17-8b40-a35d9df2a547",
   "metadata": {},
   "source": [
    ">General note: \n",
    ">the team decided to never modify the original passengers dataframe while answering the following questions. For each question a slimmer dataset was created merging the relevant fields from the original with additional ones. \n",
    ">The choice was made to never corrupt the original dataset as well as to work on nimbler df while processing."
   ]
  },
  {
   "cell_type": "markdown",
   "id": "76ce3b6d-7c16-49bb-8aa3-c663cc802cfc",
   "metadata": {
    "slideshow": {
     "slide_type": "slide"
    },
    "tags": []
   },
   "source": [
    "### _Question 6a_:\n",
    "\n",
    "    What was the average fare per class for married and unmarried women?\n",
    "    What was the probability for women to survive if they were married (Mrs.) or not (Miss)?\n",
    "    "
   ]
  },
  {
   "cell_type": "code",
   "execution_count": null,
   "id": "e1d6c063-ef80-41ac-b0ff-61ea6e9f969e",
   "metadata": {
    "slideshow": {
     "slide_type": "subslide"
    },
    "tags": []
   },
   "outputs": [],
   "source": [
    "#Extract the relevant columns from the original dataset using .copy method\n",
    "\n",
    "married_df = passengers[['Survived','Pclass','Name', 'Fare', 'Sex']].copy()"
   ]
  },
  {
   "cell_type": "code",
   "execution_count": null,
   "id": "7761de0d-352c-4895-8700-2372e6f69c22",
   "metadata": {
    "slideshow": {
     "slide_type": "subslide"
    },
    "tags": []
   },
   "outputs": [],
   "source": [
    "#Add the \"Title\" and \"Married woman\" columns in order to answer\n",
    "#Lambda function was used to transform the values in the columns\n",
    "#Assigning the result of the lambda to the new column\n",
    "\n",
    "married_df['Title'] = married_df['Name'].apply(\n",
    "    lambda x: x.split('. ')[0] if x else '')\n",
    "married_df['Married_woman'] = married_df['Title'].apply(\n",
    "    lambda x: True if x == 'Mrs' else False)\n",
    "\n",
    "married_df.head()"
   ]
  },
  {
   "cell_type": "code",
   "execution_count": null,
   "id": "238b970b-6366-4978-a70a-13bfbe8e8dd0",
   "metadata": {
    "slideshow": {
     "slide_type": "subslide"
    },
    "tags": []
   },
   "outputs": [],
   "source": [
    "#Calculate the percentage of married women among the three different classes\n",
    "\n",
    "round((married_df[married_df['Sex'] == 'female'].pivot_table(\n",
    "    index='Married_woman', columns = 'Pclass', aggfunc = 'count', values = [\n",
    "        'Name'])*100).div(\n",
    "    len(married_df[married_df['Sex'] == 'female'])),2).astype(str)+'%'"
   ]
  },
  {
   "cell_type": "code",
   "execution_count": null,
   "id": "646e56a5-bc1a-4938-b5f1-7476db202eac",
   "metadata": {
    "slideshow": {
     "slide_type": "skip"
    },
    "tags": []
   },
   "outputs": [],
   "source": [
    "#Calculate the average fare paid by married women vs unmarried \n",
    "#in the three different classes\n",
    "#plot the total revenue for each class\n",
    "revenue_married=round(married_df[married_df['Sex'] == 'female'].pivot_table(\n",
    "    index='Married_woman', columns = 'Pclass', aggfunc = 'mean', values = 'Fare'),2)\n",
    "revenue_married.plot(kind=\"bar\", colormap=\"winter\", ylabel=\"Revenue\")"
   ]
  },
  {
   "cell_type": "markdown",
   "id": "bb08511d-9ead-4ee9-b852-325fda524b87",
   "metadata": {
    "slideshow": {
     "slide_type": "skip"
    },
    "tags": []
   },
   "source": [
    "#### Insight on Revenue\n",
    ">The total revenue generated by unmarried women is higher compared to married women.\n",
    ">Similarly, for Class 1 the unmarried group generates more revenue. Interestingly though, the relationship is inverse for the other two classes (2,3) where the married group spends more. "
   ]
  },
  {
   "cell_type": "code",
   "execution_count": null,
   "id": "bcb54916-f215-490e-8266-01dfd1c42296",
   "metadata": {
    "slideshow": {
     "slide_type": "subslide"
    },
    "tags": []
   },
   "outputs": [],
   "source": [
    "#Calculate the probability of surviving for women given being married or not\n",
    "#calculated among the total count of women. \n",
    "\n",
    "women_surviving=round((married_df[married_df['Sex'] == 'female'].pivot_table(\n",
    "    index='Married_woman', columns = 'Survived', aggfunc = [\n",
    "        'count'], values = 'Fare')*100).div(\n",
    "    len(married_df[married_df['Sex'] == 'female'])),2).rename(\n",
    "    columns={0:\"P(dying)\",1:\"P(surviving)\"})\n",
    "\n",
    "women_surviving.astype(str)+\"%\""
   ]
  },
  {
   "cell_type": "code",
   "execution_count": null,
   "id": "7ecea24d-c142-4e2c-8be5-5f5cc4c9088b",
   "metadata": {
    "slideshow": {
     "slide_type": "subslide"
    },
    "tags": []
   },
   "outputs": [],
   "source": [
    "#Calculate the odds of surviving for women both married and not\n",
    "odds_suviving=[women_surviving.iloc[1,1]/(women_surviving.iloc[1,0]),(\n",
    "               women_surviving.iloc[0,1]/(women_surviving.iloc[0,0]))]\n",
    "\n",
    "#Calculate the odds ratio to obtain insights\n",
    "print('Being married for women increases the odds of surviving compared to being '+\n",
    " f'unmarried by {round((odds_suviving[0]/odds_suviving[1]-1)*100,2)}%')"
   ]
  },
  {
   "cell_type": "markdown",
   "id": "85b75e28-91a0-4ba5-9d2c-552a07dabc94",
   "metadata": {
    "slideshow": {
     "slide_type": "subslide"
    },
    "tags": []
   },
   "source": [
    "### Conclusion\n",
    "\n",
    "#### Probability of Surviving\n",
    "\n",
    "- 43% of the total women survived and were unmarried while 32% survived and were married.\n",
    "- 17% of the women died and were unmarried while 8% died and were married.\n",
    "- The team can conclude how being married increase 56% the odds of surving for women."
   ]
  },
  {
   "cell_type": "markdown",
   "id": "03ae2323-edc0-42f9-a7d8-c396a486b4f2",
   "metadata": {
    "slideshow": {
     "slide_type": "skip"
    },
    "tags": []
   },
   "source": [
    "---"
   ]
  },
  {
   "cell_type": "markdown",
   "id": "8051f186-14df-4e72-96b3-7f378905ed7e",
   "metadata": {
    "slideshow": {
     "slide_type": "slide"
    },
    "tags": []
   },
   "source": [
    "### _Question 6b_: \n",
    "    How many passengers from a lower class paid more than the median passenger from the next higherclass?"
   ]
  },
  {
   "cell_type": "code",
   "execution_count": null,
   "id": "a7c69fc3-6c92-4b17-87e4-b8a361fe481e",
   "metadata": {
    "slideshow": {
     "slide_type": "subslide"
    },
    "tags": []
   },
   "outputs": [],
   "source": [
    "#Define a fucntion to check if a passenger payed more than the median of a given class\n",
    "\n",
    "def passengers_paid_median(Pclass):\n",
    "    class_ticket_price = passengers.loc[\n",
    "                                      (passengers[\"Pclass\"] == Pclass)\n",
    "                                      ]\n",
    "    return class_ticket_price[\"Fare\"].median()"
   ]
  },
  {
   "cell_type": "code",
   "execution_count": null,
   "id": "80633dc3-0927-4865-8407-36696fc17646",
   "metadata": {
    "slideshow": {
     "slide_type": "subslide"
    },
    "tags": []
   },
   "outputs": [],
   "source": [
    "#Apply the function to compare class 2 to 1 and class 3 to 2, other combinations\n",
    "#don't make sense\n",
    "\n",
    "for ClassNo in range(2,4):\n",
    "    print (f\"The number of passengers from class \" + str(\n",
    "        ClassNo) +\" who paid more than the median of passengers from class \"+ str(\n",
    "    ClassNo-1)+\":\" + \" \" + str(passengers[(passengers[\"Pclass\"]==ClassNo) & (\n",
    "    passengers[\"Fare\"]>passengers_paid_median(ClassNo-1))][\"Survived\"].count()))"
   ]
  },
  {
   "cell_type": "markdown",
   "id": "2cc9fa04-a76a-4d7e-b5f7-9a03f799ea09",
   "metadata": {
    "slideshow": {
     "slide_type": "subslide"
    },
    "tags": []
   },
   "source": [
    ">The results from the previous analysis show how there is a consistent number of people paying more than the median, so we asked ourselves why. A possible reason would be how prices of tickets change depending on the embarking ports. It is important to remember how the embark sequence is S-Q-C located in England (Southhampton, Cherbourg and Queenstown)."
   ]
  },
  {
   "cell_type": "code",
   "execution_count": 21,
   "id": "dbae007e-257f-43a6-bbfa-61ca73c8322b",
   "metadata": {
    "slideshow": {
     "slide_type": "subslide"
    },
    "tags": []
   },
   "outputs": [
    {
     "data": {
      "text/plain": [
       "<AxesSubplot:title={'center':'Ticket Prices'}, xlabel='Embarked'>"
      ]
     },
     "execution_count": 21,
     "metadata": {},
     "output_type": "execute_result"
    },
    {
     "data": {
      "image/png": "[encoded data removed]",
      "text/plain": [
       "<Figure size 432x288 with 1 Axes>"
      ]
     },
     "metadata": {
      "needs_background": "light"
     },
     "output_type": "display_data"
    }
   ],
   "source": [
    "#Create a \"Fares\" dataframe grouping from the original dataset the total revenue per port \n",
    "#and the count of people per class. \n",
    "#Also, calculate the average price per ticket and add a column.\n",
    "fares=round(passengers.pivot_table(\n",
    "    index = ['Embarked','Pclass'], aggfunc ={'Fare':'sum', 'Pclass':'count'}\n",
    "    ), 2).sort_values(\n",
    "    by=['Fare'], ascending = False).rename(columns={\n",
    "    'Pclass':'People per class', \"Fare\":\"Revenue per port\"})\n",
    "fares['Ticket Prices']=round(fares['Revenue per port'].div(fares['People per class']),2)\n",
    "\n",
    "#Unstack the multilevel dataframe for visualization purposes and easier handling\n",
    "#Sort by order or embarkment \n",
    "#Insert a new Revenue per port column grouping by port and summing the fares as revenue\n",
    "fares=fares.unstack().sort_index(ascending=False)\n",
    "fares['Total Revenue per port']=round(passengers.groupby('Embarked').sum()['Fare'],2)\n",
    "\n",
    "#plot the result for visualization\n",
    "fares[\"Ticket Prices\"].plot(kind=\"line\",colormap=\"Accent\", title=\"Ticket Prices\")"
   ]
  },
  {
   "cell_type": "code",
   "execution_count": 22,
   "id": "fc2205fe-2ffb-461d-88dc-523aaf7a14dc",
   "metadata": {
    "slideshow": {
     "slide_type": "skip"
    },
    "tags": []
   },
   "outputs": [
    {
     "data": {
      "text/plain": [
       "<AxesSubplot:title={'center':'Revenue per port'}, xlabel='Embarked'>"
      ]
     },
     "execution_count": 22,
     "metadata": {},
     "output_type": "execute_result"
    },
    {
     "data": {
      "image/png": "[encoded data removed]",
      "text/plain": [
       "<Figure size 432x288 with 1 Axes>"
      ]
     },
     "metadata": {
      "needs_background": "light"
     },
     "output_type": "display_data"
    }
   ],
   "source": [
    "#Additional insights from the visualization of Revenue per port\n",
    "fares[\"Revenue per port\"].plot.bar(colormap=\"winter\",title=\"Revenue per port\", stacked=True)"
   ]
  },
  {
   "cell_type": "markdown",
   "id": "739e25ee-8b05-45ba-ad35-fe3eb0cdf968",
   "metadata": {
    "slideshow": {
     "slide_type": "skip"
    },
    "tags": []
   },
   "source": [
    "#### Additional Insight on Revenue per port\n",
    ">Lastly, the team reports how Southampton was by far the port generating the most revenue with Cherbourg having comparable results for First Class only and Q being further back in this metric."
   ]
  },
  {
   "cell_type": "markdown",
   "id": "4105897c-00b7-4c96-bf19-df56d3a204d1",
   "metadata": {
    "slideshow": {
     "slide_type": "subslide"
    },
    "tags": []
   },
   "source": [
    "### Conclusions \n",
    "\n",
    "#### Investigating the reasons\n",
    "\n",
    "- Price of Tickets for First Class were increasing.\n",
    "- Price of Tickets Second class decreased from Southampton to Q, only to increase again.\n",
    "- Price of Tickets for Third class had a decreasing trend. \n",
    "\n",
    "=> This difference in trend explains the result since the team used the median as a metric.\n"
   ]
  },
  {
   "cell_type": "markdown",
   "id": "1b4096ca-c56d-42eb-8983-095a5e931d7f",
   "metadata": {
    "slideshow": {
     "slide_type": "skip"
    },
    "tags": []
   },
   "source": [
    "---"
   ]
  },
  {
   "cell_type": "markdown",
   "id": "57128cc8-f342-45cb-9bf8-34236cc0351a",
   "metadata": {
    "slideshow": {
     "slide_type": "slide"
    },
    "tags": []
   },
   "source": [
    "### Question 6c: Age Groups: Revenue and P(surviving)\n",
    "    1. Which age group had the highest probability of survivng?\n",
    "    2. What age group generated the highest revenue?"
   ]
  },
  {
   "cell_type": "code",
   "execution_count": 23,
   "id": "4a22c83d-9130-4239-9c32-819fd74b72df",
   "metadata": {
    "slideshow": {
     "slide_type": "subslide"
    },
    "tags": []
   },
   "outputs": [
    {
     "data": {
      "text/plain": [
       "177"
      ]
     },
     "execution_count": 23,
     "metadata": {},
     "output_type": "execute_result"
    }
   ],
   "source": [
    "#Data exploration : are there null values for Age?\n",
    "passengers[\"Age\"].isna().sum()"
   ]
  },
  {
   "cell_type": "markdown",
   "id": "81cb68e4-6269-4fdd-8e2d-05259fd8f581",
   "metadata": {
    "slideshow": {
     "slide_type": "skip"
    },
    "tags": []
   },
   "source": [
    "#### 2.Additional Insights\n",
    ">Lastly, the team reports how the Unknwon category is very significant (177 records missing the \"Age\" feature), ultimatly reserving to consider how these would affect the above conclusions. "
   ]
  },
  {
   "cell_type": "code",
   "execution_count": 24,
   "id": "55492755-b66d-484c-85b2-8ac0d741789a",
   "metadata": {
    "slideshow": {
     "slide_type": "subslide"
    },
    "tags": []
   },
   "outputs": [
    {
     "data": {
      "text/html": [
       "<div>\n",
       "<style scoped>\n",
       "    .dataframe tbody tr th:only-of-type {\n",
       "        vertical-align: middle;\n",
       "    }\n",
       "\n",
       "    .dataframe tbody tr th {\n",
       "        vertical-align: top;\n",
       "    }\n",
       "\n",
       "    .dataframe thead th {\n",
       "        text-align: right;\n",
       "    }\n",
       "</style>\n",
       "<table border=\"1\" class=\"dataframe\">\n",
       "  <thead>\n",
       "    <tr style=\"text-align: right;\">\n",
       "      <th></th>\n",
       "      <th>Survived</th>\n",
       "      <th>Fare</th>\n",
       "      <th>Sex</th>\n",
       "      <th>Pclass</th>\n",
       "      <th>Age_Group</th>\n",
       "    </tr>\n",
       "    <tr>\n",
       "      <th>PassengerId</th>\n",
       "      <th></th>\n",
       "      <th></th>\n",
       "      <th></th>\n",
       "      <th></th>\n",
       "      <th></th>\n",
       "    </tr>\n",
       "  </thead>\n",
       "  <tbody>\n",
       "    <tr>\n",
       "      <th>1</th>\n",
       "      <td>0</td>\n",
       "      <td>7.2500</td>\n",
       "      <td>male</td>\n",
       "      <td>3</td>\n",
       "      <td>20-30</td>\n",
       "    </tr>\n",
       "    <tr>\n",
       "      <th>2</th>\n",
       "      <td>1</td>\n",
       "      <td>71.2833</td>\n",
       "      <td>female</td>\n",
       "      <td>1</td>\n",
       "      <td>30-40</td>\n",
       "    </tr>\n",
       "    <tr>\n",
       "      <th>3</th>\n",
       "      <td>1</td>\n",
       "      <td>7.9250</td>\n",
       "      <td>female</td>\n",
       "      <td>3</td>\n",
       "      <td>20-30</td>\n",
       "    </tr>\n",
       "    <tr>\n",
       "      <th>4</th>\n",
       "      <td>1</td>\n",
       "      <td>53.1000</td>\n",
       "      <td>female</td>\n",
       "      <td>1</td>\n",
       "      <td>30-40</td>\n",
       "    </tr>\n",
       "    <tr>\n",
       "      <th>5</th>\n",
       "      <td>0</td>\n",
       "      <td>8.0500</td>\n",
       "      <td>male</td>\n",
       "      <td>3</td>\n",
       "      <td>30-40</td>\n",
       "    </tr>\n",
       "  </tbody>\n",
       "</table>\n",
       "</div>"
      ],
      "text/plain": [
       "             Survived     Fare     Sex  Pclass Age_Group\n",
       "PassengerId                                             \n",
       "1                   0   7.2500    male       3     20-30\n",
       "2                   1  71.2833  female       1     30-40\n",
       "3                   1   7.9250  female       3     20-30\n",
       "4                   1  53.1000  female       1     30-40\n",
       "5                   0   8.0500    male       3     30-40"
      ]
     },
     "execution_count": 24,
     "metadata": {},
     "output_type": "execute_result"
    }
   ],
   "source": [
    "#Creating the dataframe to answer the question\n",
    "\n",
    "#Extract the relevant columns from the original dataset using .copy method\n",
    "merged_passengers=passengers[['Survived','Fare', 'Sex','Pclass']].copy()\n",
    "\n",
    "#Creating the bin limits and the names of the columns for each bin,\n",
    "#storing them in two variables for easy hanfdling\n",
    "bin_limits=[0,10,20,30,40,50,60,70,80,90]\n",
    "bin_list=[\"0-10\",\"10-20\",\"20-30\",\"30-40\",\"40-50\",\"50-60\",\"60-70\",\"70-80\",\"80-90\"]\n",
    "\n",
    "#Applying the bins to \"Age\" in the original dataframe through .cut and storing the result\n",
    "# as a new column in anither dataframe\n",
    "merged_passengers[\"Age_Group\"]=pd.cut(\n",
    "    passengers[\"Age\"],bins=bin_limits,labels=bin_list,right=False)\n",
    "\n",
    "#Clean the data by adding a new field \"Unknown\" \n",
    "#for those passengers without an age specified\n",
    "merged_passengers[\"Age_Group\"]=merged_passengers[\n",
    "    \"Age_Group\"].cat.add_categories(\"Unknown\").fillna(\"Unknown\")\n",
    "\n",
    "#Visualize the head od the dataframe\n",
    "merged_passengers.head()"
   ]
  },
  {
   "cell_type": "code",
   "execution_count": 25,
   "id": "f8ebef8a-f5e4-425b-9922-4cd453efea67",
   "metadata": {
    "slideshow": {
     "slide_type": "subslide"
    },
    "tags": []
   },
   "outputs": [
    {
     "data": {
      "text/html": [
       "<div>\n",
       "<style scoped>\n",
       "    .dataframe tbody tr th:only-of-type {\n",
       "        vertical-align: middle;\n",
       "    }\n",
       "\n",
       "    .dataframe tbody tr th {\n",
       "        vertical-align: top;\n",
       "    }\n",
       "\n",
       "    .dataframe thead tr th {\n",
       "        text-align: left;\n",
       "    }\n",
       "\n",
       "    .dataframe thead tr:last-of-type th {\n",
       "        text-align: right;\n",
       "    }\n",
       "</style>\n",
       "<table border=\"1\" class=\"dataframe\">\n",
       "  <thead>\n",
       "    <tr>\n",
       "      <th></th>\n",
       "      <th colspan=\"3\" halign=\"left\">Probability of Surviving within Class</th>\n",
       "    </tr>\n",
       "    <tr>\n",
       "      <th>Pclass</th>\n",
       "      <th>1</th>\n",
       "      <th>2</th>\n",
       "      <th>3</th>\n",
       "    </tr>\n",
       "    <tr>\n",
       "      <th>Age_Group</th>\n",
       "      <th></th>\n",
       "      <th></th>\n",
       "      <th></th>\n",
       "    </tr>\n",
       "  </thead>\n",
       "  <tbody>\n",
       "    <tr>\n",
       "      <th>0-10</th>\n",
       "      <td>66.67</td>\n",
       "      <td>100.00</td>\n",
       "      <td>45.24</td>\n",
       "    </tr>\n",
       "    <tr>\n",
       "      <th>10-20</th>\n",
       "      <td>83.33</td>\n",
       "      <td>50.00</td>\n",
       "      <td>25.76</td>\n",
       "    </tr>\n",
       "    <tr>\n",
       "      <th>20-30</th>\n",
       "      <td>70.59</td>\n",
       "      <td>41.51</td>\n",
       "      <td>23.31</td>\n",
       "    </tr>\n",
       "    <tr>\n",
       "      <th>30-40</th>\n",
       "      <td>78.00</td>\n",
       "      <td>39.58</td>\n",
       "      <td>21.74</td>\n",
       "    </tr>\n",
       "    <tr>\n",
       "      <th>40-50</th>\n",
       "      <td>59.46</td>\n",
       "      <td>55.56</td>\n",
       "      <td>5.88</td>\n",
       "    </tr>\n",
       "    <tr>\n",
       "      <th>50-60</th>\n",
       "      <td>55.56</td>\n",
       "      <td>33.33</td>\n",
       "      <td>0.00</td>\n",
       "    </tr>\n",
       "    <tr>\n",
       "      <th>60-70</th>\n",
       "      <td>30.77</td>\n",
       "      <td>33.33</td>\n",
       "      <td>33.33</td>\n",
       "    </tr>\n",
       "    <tr>\n",
       "      <th>70-80</th>\n",
       "      <td>0.00</td>\n",
       "      <td>0.00</td>\n",
       "      <td>0.00</td>\n",
       "    </tr>\n",
       "    <tr>\n",
       "      <th>80-90</th>\n",
       "      <td>100.00</td>\n",
       "      <td>NaN</td>\n",
       "      <td>NaN</td>\n",
       "    </tr>\n",
       "    <tr>\n",
       "      <th>Unknown</th>\n",
       "      <td>46.67</td>\n",
       "      <td>36.36</td>\n",
       "      <td>25.00</td>\n",
       "    </tr>\n",
       "  </tbody>\n",
       "</table>\n",
       "</div>"
      ],
      "text/plain": [
       "          Probability of Surviving within Class               \n",
       "Pclass                                        1       2      3\n",
       "Age_Group                                                     \n",
       "0-10                                      66.67  100.00  45.24\n",
       "10-20                                     83.33   50.00  25.76\n",
       "20-30                                     70.59   41.51  23.31\n",
       "30-40                                     78.00   39.58  21.74\n",
       "40-50                                     59.46   55.56   5.88\n",
       "50-60                                     55.56   33.33   0.00\n",
       "60-70                                     30.77   33.33  33.33\n",
       "70-80                                      0.00    0.00   0.00\n",
       "80-90                                    100.00     NaN    NaN\n",
       "Unknown                                   46.67   36.36  25.00"
      ]
     },
     "execution_count": 25,
     "metadata": {},
     "output_type": "execute_result"
    }
   ],
   "source": [
    "#Calculate the Probability of Surviving Within Class,\n",
    "#store it as a column of a dataframe for easy plotting later\n",
    "p_surv_age=round((merged_passengers.loc[\n",
    "    (merged_passengers[\"Survived\"]==True)].groupby([\"Age_Group\",\"Pclass\"]).agg(\"count\")*100).div(\n",
    "    merged_passengers.groupby([\"Age_Group\",\"Pclass\"]).agg({\n",
    "    \"Survived\":\"count\"})),2)[[\"Survived\"]].rename(\n",
    "    columns={\"Survived\":\"Probability of Surviving within Class\"}).unstack()\n",
    "p_surv_age"
   ]
  },
  {
   "cell_type": "code",
   "execution_count": 26,
   "id": "d2051b18-1277-447a-9924-b4e279156eed",
   "metadata": {
    "slideshow": {
     "slide_type": "subslide"
    },
    "tags": []
   },
   "outputs": [
    {
     "data": {
      "text/html": [
       "<div>\n",
       "<style scoped>\n",
       "    .dataframe tbody tr th:only-of-type {\n",
       "        vertical-align: middle;\n",
       "    }\n",
       "\n",
       "    .dataframe tbody tr th {\n",
       "        vertical-align: top;\n",
       "    }\n",
       "\n",
       "    .dataframe thead tr th {\n",
       "        text-align: left;\n",
       "    }\n",
       "\n",
       "    .dataframe thead tr:last-of-type th {\n",
       "        text-align: right;\n",
       "    }\n",
       "</style>\n",
       "<table border=\"1\" class=\"dataframe\">\n",
       "  <thead>\n",
       "    <tr>\n",
       "      <th></th>\n",
       "      <th colspan=\"3\" halign=\"left\">Probability of Surviving within Class</th>\n",
       "      <th>p(surv over total)</th>\n",
       "    </tr>\n",
       "    <tr>\n",
       "      <th>Pclass</th>\n",
       "      <th>1</th>\n",
       "      <th>2</th>\n",
       "      <th>3</th>\n",
       "      <th></th>\n",
       "    </tr>\n",
       "    <tr>\n",
       "      <th>Age_Group</th>\n",
       "      <th></th>\n",
       "      <th></th>\n",
       "      <th></th>\n",
       "      <th></th>\n",
       "    </tr>\n",
       "  </thead>\n",
       "  <tbody>\n",
       "    <tr>\n",
       "      <th>0-10</th>\n",
       "      <td>66.67</td>\n",
       "      <td>100.00</td>\n",
       "      <td>45.24</td>\n",
       "      <td>11.1</td>\n",
       "    </tr>\n",
       "    <tr>\n",
       "      <th>10-20</th>\n",
       "      <td>83.33</td>\n",
       "      <td>50.00</td>\n",
       "      <td>25.76</td>\n",
       "      <td>12.0</td>\n",
       "    </tr>\n",
       "    <tr>\n",
       "      <th>20-30</th>\n",
       "      <td>70.59</td>\n",
       "      <td>41.51</td>\n",
       "      <td>23.31</td>\n",
       "      <td>22.5</td>\n",
       "    </tr>\n",
       "    <tr>\n",
       "      <th>30-40</th>\n",
       "      <td>78.00</td>\n",
       "      <td>39.58</td>\n",
       "      <td>21.74</td>\n",
       "      <td>21.3</td>\n",
       "    </tr>\n",
       "    <tr>\n",
       "      <th>40-50</th>\n",
       "      <td>59.46</td>\n",
       "      <td>55.56</td>\n",
       "      <td>5.88</td>\n",
       "      <td>9.9</td>\n",
       "    </tr>\n",
       "    <tr>\n",
       "      <th>50-60</th>\n",
       "      <td>55.56</td>\n",
       "      <td>33.33</td>\n",
       "      <td>0.00</td>\n",
       "      <td>5.8</td>\n",
       "    </tr>\n",
       "    <tr>\n",
       "      <th>60-70</th>\n",
       "      <td>30.77</td>\n",
       "      <td>33.33</td>\n",
       "      <td>33.33</td>\n",
       "      <td>1.8</td>\n",
       "    </tr>\n",
       "    <tr>\n",
       "      <th>70-80</th>\n",
       "      <td>0.00</td>\n",
       "      <td>0.00</td>\n",
       "      <td>0.00</td>\n",
       "      <td>0.0</td>\n",
       "    </tr>\n",
       "    <tr>\n",
       "      <th>80-90</th>\n",
       "      <td>100.00</td>\n",
       "      <td>NaN</td>\n",
       "      <td>NaN</td>\n",
       "      <td>0.3</td>\n",
       "    </tr>\n",
       "    <tr>\n",
       "      <th>Unknown</th>\n",
       "      <td>46.67</td>\n",
       "      <td>36.36</td>\n",
       "      <td>25.00</td>\n",
       "      <td>15.2</td>\n",
       "    </tr>\n",
       "  </tbody>\n",
       "</table>\n",
       "</div>"
      ],
      "text/plain": [
       "          Probability of Surviving within Class                 \\\n",
       "Pclass                                        1       2      3   \n",
       "Age_Group                                                        \n",
       "0-10                                      66.67  100.00  45.24   \n",
       "10-20                                     83.33   50.00  25.76   \n",
       "20-30                                     70.59   41.51  23.31   \n",
       "30-40                                     78.00   39.58  21.74   \n",
       "40-50                                     59.46   55.56   5.88   \n",
       "50-60                                     55.56   33.33   0.00   \n",
       "60-70                                     30.77   33.33  33.33   \n",
       "70-80                                      0.00    0.00   0.00   \n",
       "80-90                                    100.00     NaN    NaN   \n",
       "Unknown                                   46.67   36.36  25.00   \n",
       "\n",
       "          p(surv over total)  \n",
       "Pclass                        \n",
       "Age_Group                     \n",
       "0-10                    11.1  \n",
       "10-20                   12.0  \n",
       "20-30                   22.5  \n",
       "30-40                   21.3  \n",
       "40-50                    9.9  \n",
       "50-60                    5.8  \n",
       "60-70                    1.8  \n",
       "70-80                    0.0  \n",
       "80-90                    0.3  \n",
       "Unknown                 15.2  "
      ]
     },
     "execution_count": 26,
     "metadata": {},
     "output_type": "execute_result"
    }
   ],
   "source": [
    "#Calculate the Probability of Surviving Over Total,\n",
    "#store it as a column of a dataframe for easy plotting later\n",
    "p_surv_age['p(surv over total)']= round((merged_passengers.loc[\n",
    "    (merged_passengers[\"Survived\"]==True)].groupby(\"Age_Group\").agg(\"count\")*100).div(\n",
    "        len(merged_passengers.loc[\n",
    "            (merged_passengers[\"Survived\"]==True)])),1)[[\"Survived\"]]\n",
    "p_surv_age"
   ]
  },
  {
   "cell_type": "code",
   "execution_count": 27,
   "id": "cf3c4482-cc5e-4ade-87e8-e3c076e5d0d0",
   "metadata": {
    "slideshow": {
     "slide_type": "subslide"
    },
    "tags": []
   },
   "outputs": [
    {
     "data": {
      "text/plain": [
       "<AxesSubplot:ylabel='p(surv over total)'>"
      ]
     },
     "execution_count": 27,
     "metadata": {},
     "output_type": "execute_result"
    },
    {
     "data": {
      "image/png": "[encoded data removed]",
      "text/plain": [
       "<Figure size 432x288 with 1 Axes>"
      ]
     },
     "metadata": {},
     "output_type": "display_data"
    }
   ],
   "source": [
    "#Plot Probability of Surviving Over Total as a pie chart\n",
    "p_surv_age.sort_values('p(surv over total)', ascending=False).plot(\n",
    "    kind=\"pie\",y='p(surv over total)',fontsize=0, colormap='Blues')"
   ]
  },
  {
   "cell_type": "code",
   "execution_count": 28,
   "id": "7fbeaadf-4110-4fb5-8684-46202cb46531",
   "metadata": {
    "slideshow": {
     "slide_type": "subslide"
    },
    "tags": []
   },
   "outputs": [
    {
     "data": {
      "text/plain": [
       "<AxesSubplot:title={'center':'Probability of Surviving within Class'}, xlabel='Age_Group'>"
      ]
     },
     "execution_count": 28,
     "metadata": {},
     "output_type": "execute_result"
    },
    {
     "data": {
      "image/png": "[encoded data removed]",
      "text/plain": [
       "<Figure size 432x288 with 1 Axes>"
      ]
     },
     "metadata": {
      "needs_background": "light"
     },
     "output_type": "display_data"
    }
   ],
   "source": [
    "## Plot Probability of Surviving Within Class as a bar chart\n",
    "p_surv_age[\"Probability of Surviving within Class\"].plot.bar(\n",
    "    title=\"Probability of Surviving within Class\", colormap=\"winter\")"
   ]
  },
  {
   "cell_type": "code",
   "execution_count": 29,
   "id": "5ff09ac1-0d1f-4e06-b86d-3eaeaf840d5d",
   "metadata": {
    "slideshow": {
     "slide_type": "skip"
    },
    "tags": []
   },
   "outputs": [],
   "source": [
    "#Calculate the Revenue per Age Group,\n",
    "#store it as a column of a dataframe for easy plotting later\n",
    "revenue_df=round(merged_passengers.pivot_table(\n",
    "    index=\"Age_Group\",aggfunc=\"sum\",values=\"Fare\"),2).rename(\n",
    "    columns={\"Fare\":\"Revenue per Age Group\"})\n",
    "\n",
    "#Calculate the Revenue per person,\n",
    "#store it as a column of a dataframe for easy plotting later\n",
    "revenue_df[\"Revenue per person\"]=round(merged_passengers.pivot_table(\n",
    "    index=\"Age_Group\",aggfunc=\"sum\",values=\"Fare\").div(\n",
    "    merged_passengers.pivot_table(\n",
    "        index=\"Age_Group\",aggfunc=\"count\",values=\"Fare\")),2)\n",
    "\n",
    "#Calculate the Percentage of Revenue over total,\n",
    "#store it as a column of a dataframe for easy plotting later\n",
    "revenue_df=revenue_df.join(\n",
    "round(merged_passengers.pivot_table(\n",
    "    index=\"Age_Group\",aggfunc=\"sum\",values=\"Fare\").div(\n",
    "    merged_passengers[\"Fare\"].sum())*100,2).rename(\n",
    "    columns={\"Fare\":\"Percentage of Revenue over total\"}))"
   ]
  },
  {
   "cell_type": "code",
   "execution_count": 30,
   "id": "eb4ea534-2e22-40b5-b9d1-607b8f1ae529",
   "metadata": {
    "slideshow": {
     "slide_type": "skip"
    },
    "tags": []
   },
   "outputs": [
    {
     "data": {
      "text/plain": [
       "<AxesSubplot:ylabel='Percentage of Revenue over total'>"
      ]
     },
     "execution_count": 30,
     "metadata": {},
     "output_type": "execute_result"
    },
    {
     "data": {
      "image/png": "[encoded data removed]",
      "text/plain": [
       "<Figure size 432x288 with 1 Axes>"
      ]
     },
     "metadata": {},
     "output_type": "display_data"
    }
   ],
   "source": [
    "#Plot Percentage of Revenue over total as a pie chart\n",
    "revenue_df.sort_values(\"Percentage of Revenue over total\", ascending=False).plot(\n",
    "    kind=\"pie\",y=\"Percentage of Revenue over total\",fontsize=0,colormap='Reds')"
   ]
  },
  {
   "cell_type": "code",
   "execution_count": 31,
   "id": "f0e53715-38a5-4eda-a064-e00a1bece166",
   "metadata": {
    "slideshow": {
     "slide_type": "skip"
    },
    "tags": []
   },
   "outputs": [
    {
     "data": {
      "text/plain": [
       "<AxesSubplot:>"
      ]
     },
     "execution_count": 31,
     "metadata": {},
     "output_type": "execute_result"
    },
    {
     "data": {
      "image/png": "[encoded data removed]",
      "text/plain": [
       "<Figure size 432x288 with 2 Axes>"
      ]
     },
     "metadata": {
      "needs_background": "light"
     },
     "output_type": "display_data"
    }
   ],
   "source": [
    "#Plot Revenue per Age Group and Revenue per person as a bar chart, \n",
    "#because of differnece in scale Revenue per Age Group has been rescaled through log10\n",
    "revenue_df[[\"Revenue per Age Group\",\"Revenue per person\"]].plot.bar(\n",
    "    title=\"Revenue per Age Group\", colormap='copper', logy=True, secondary_y=True)"
   ]
  },
  {
   "cell_type": "markdown",
   "id": "04a99a18-67d4-4f02-bbe9-dd27c17dddd9",
   "metadata": {
    "slideshow": {
     "slide_type": "skip"
    },
    "tags": []
   },
   "source": [
    "#### Additional Insights on Revenue\n",
    ">The Group generating the most revenue is 30-40, closely followed by 40-50 and 20-30.\n",
    ">Relevant to see how, exclusing the Unknown, the distribution of binned revenue seems to follow a Normal Distribution, although a little skewed. \n",
    ">It also interesting to see how the highest average revenue per person belongs to the older groups (50-60 and 60-70), indicating a higher willingness to spend per capita in such groups. \n"
   ]
  },
  {
   "cell_type": "markdown",
   "id": "e1019e34-1377-4ae2-b519-d2c1d93a2b13",
   "metadata": {
    "slideshow": {
     "slide_type": "subslide"
    },
    "tags": []
   },
   "source": [
    "### Conclusions\n",
    "\n",
    "#### Which age group had the highest probability of surviving?\n",
    "\n",
    "- The highest probability of surviving within the Age Group always matches people in the First Class except for Age Groups (0-10) and (60-70)\n",
    "- The highest probability of surviving over the total survivors belongs to Age Groups (20-30) and (30-40)"
   ]
  }
 ],
 "metadata": {
  "kernelspec": {
   "display_name": "Python 3 (ipykernel)",
   "language": "python",
   "name": "python3"
  },
  "language_info": {
   "codemirror_mode": {
    "name": "ipython",
    "version": 3
   },
   "file_extension": ".py",
   "mimetype": "text/x-python",
   "name": "python",
   "nbconvert_exporter": "python",
   "pygments_lexer": "ipython3",
   "version": "3.7.3"
  }
 },
 "nbformat": 4,
 "nbformat_minor": 5
}
